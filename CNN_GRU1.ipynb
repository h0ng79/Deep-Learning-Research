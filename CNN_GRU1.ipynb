{
  "cells": [
    {
      "cell_type": "code",
      "execution_count": null,
      "metadata": {
        "id": "uooSN-qsVR9q"
      },
      "outputs": [],
      "source": [
        "%tensorflow_version 2.x\n",
        "import tensorflow as tf\n",
        "print(\"Tensorflow version \" + tf.__version__)\n",
        "\n",
        "try:\n",
        "  tpu = tf.distribute.cluster_resolver.TPUClusterResolver()  # TPU detection\n",
        "  print('Running on TPU ', tpu.cluster_spec().as_dict()['worker'])\n",
        "except ValueError:\n",
        "  raise BaseException('ERROR: Not connected to a TPU runtime; please see the previous cell in this notebook for instructions!')\n",
        "\n",
        "tf.config.experimental_connect_to_cluster(tpu)\n",
        "tf.tpu.experimental.initialize_tpu_system(tpu)\n",
        "tpu_strategy = tf.distribute.experimental.TPUStrategy(tpu)"
      ]
    },
    {
      "cell_type": "code",
      "execution_count": null,
      "metadata": {
        "id": "r5hbYM_kM4jF"
      },
      "outputs": [],
      "source": [
        "import pandas as pd\n",
        "import tensorflow\n",
        "import matplotlib.pyplot as plt\n",
        "import numpy as np\n",
        "from keras.layers.core import Dense, Dropout\n",
        "from keras.layers import GRU\n",
        "from tensorflow.keras.optimizers import SGD, Adagrad, RMSprop, Adam, Adadelta, Adamax,Nadam\n",
        "from keras.callbacks import Callback, CSVLogger\n",
        "from sklearn.metrics import mean_squared_error, mean_absolute_error,r2_score\n",
        "from keras.models import Sequential\n",
        "import timeit\n",
        "from numpy import mean\n",
        "from numpy import std\n",
        "from numpy import dstack\n",
        "from sklearn.preprocessing import StandardScaler\n",
        "from keras.layers import Flatten\n",
        "from keras.layers.convolutional import Conv1D\n",
        "from keras.layers.convolutional import MaxPooling1D\n",
        "from tensorflow.keras.utils import to_categorical\n",
        "from sklearn.preprocessing import MinMaxScaler"
      ]
    },
    {
      "cell_type": "code",
      "execution_count": null,
      "metadata": {
        "colab": {
          "base_uri": "https://localhost:8080/"
        },
        "id": "rCfkr9HhNNOu",
        "outputId": "21d3b411-a163-4714-9d31-a782164e96a2"
      },
      "outputs": [
        {
          "output_type": "stream",
          "name": "stdout",
          "text": [
            "Mounted at /content/drive\n"
          ]
        }
      ],
      "source": [
        "from google.colab import drive\n",
        "drive.mount('/content/drive')"
      ]
    },
    {
      "cell_type": "code",
      "execution_count": null,
      "metadata": {
        "id": "5vACAdOiNkFL"
      },
      "outputs": [],
      "source": [
        "start = timeit.default_timer()\n",
        "dataframe = pd.read_csv('/content/drive/MyDrive/Research/data/LaminatedPlate_RZT_Q9.csv')"
      ]
    },
    {
      "cell_type": "code",
      "execution_count": null,
      "metadata": {
        "id": "Y0D_5DaV82vR"
      },
      "outputs": [],
      "source": [
        "dataset = dataframe.values\n",
        "data = dataset[:, 0:107]\n",
        "scaler = MinMaxScaler()\n",
        "data = scaler.fit_transform(data)"
      ]
    },
    {
      "cell_type": "code",
      "execution_count": null,
      "metadata": {
        "id": "TsLO17ek7XiC"
      },
      "outputs": [],
      "source": [
        "# from sklearn.preprocessing import StandardScaler\n",
        "# scaler = StandardScaler()\n",
        "# data=scaler.fit_transform(data)"
      ]
    },
    {
      "cell_type": "code",
      "execution_count": null,
      "metadata": {
        "colab": {
          "base_uri": "https://localhost:8080/"
        },
        "id": "1UD8YVSWOJfE",
        "outputId": "42e4df17-c2ee-4d13-f518-e71aa00d8c95"
      },
      "outputs": [
        {
          "output_type": "stream",
          "name": "stdout",
          "text": [
            "(40000, 101)\n",
            "x_train =  [[0.35280948 0.40013556 0.59792331 ... 0.25230566 0.16814912 0.60556815]\n",
            " [0.09663441 0.26536996 0.79194769 ... 0.89902329 0.86419623 0.14169278]\n",
            " [0.0186391  0.72832428 0.81665907 ... 0.03038468 0.63536209 0.33557237]\n",
            " ...\n",
            " [0.31114235 0.76524773 0.69068545 ... 0.29214632 0.22587294 0.76841789]\n",
            " [0.99450549 0.08655289 0.95196613 ... 0.67749678 0.26933526 0.38782586]\n",
            " [0.36902632 0.80323233 0.96519961 ... 0.02714565 0.27050196 0.6524935 ]]\n",
            "(40000, 5)\n",
            "y_train =  [[0.42717531 0.58751401 0.54305166 0.44421383 0.45133866]\n",
            " [0.40574368 0.51058079 0.67147243 0.46764448 0.37195867]\n",
            " [0.35747964 0.64572483 0.67587772 0.34620174 0.35082198]\n",
            " ...\n",
            " [0.2701243  0.73861164 0.76651982 0.23882662 0.25368718]\n",
            " [0.4142306  0.62034412 0.66766787 0.37549006 0.35519023]\n",
            " [0.4390913  0.52040345 0.59644907 0.46718325 0.4322217 ]]\n"
          ]
        }
      ],
      "source": [
        "nb_set = 50000\n",
        "nb_test = int(nb_set*0.8)\n",
        "x_train = data[:nb_test,0:101]\n",
        "x_test  = data[nb_test:,0:101]\n",
        "print(np.shape(x_train))\n",
        "print('x_train = ', x_train)\n",
        "\n",
        "y_train = data[:nb_test,101:107]\n",
        "y_test  = data[nb_test:,101:107]\n",
        "print(np.shape(y_train))\n",
        "print('y_train = ',y_train)"
      ]
    },
    {
      "cell_type": "code",
      "execution_count": null,
      "metadata": {
        "id": "UwhO__eMOQT4"
      },
      "outputs": [],
      "source": [
        "x_train = x_train.reshape(x_train.shape[0], x_train.shape[1], 1)\n",
        "x_test = x_test.reshape(x_test.shape[0], x_test.shape[1], 1)\n",
        "\n",
        "input_node  = x_train.shape[1]\n",
        "output_node = y_train.shape[1]\n",
        "n_timesteps = x_train.shape[2]"
      ]
    },
    {
      "cell_type": "code",
      "execution_count": null,
      "metadata": {
        "id": "kq-xYqEMOpWx"
      },
      "outputs": [],
      "source": [
        "model = Sequential()\n",
        "model.add(Conv1D(filters=64,kernel_size=5, activation='relu', input_shape=(input_node,n_timesteps)))\n",
        "model.add(Conv1D(filters=64,kernel_size=5, activation='relu'))\n",
        "model.add(Dropout(0.2))\n",
        "model.add(GRU(units=200,return_sequences=True,activation=\"relu\"))\n",
        "model.add(GRU(units=100,activation=\"relu\"))\n",
        "model.add(Dropout(0.2))\n",
        "model.add(Dense(200, activation='relu'))\n",
        "model.add(Dense(100, activation='relu'))\n",
        "model.add(Dropout(0.2))\n",
        "model.add(Dense(output_node))\n",
        "with tpu_strategy.scope(): # creating the model in the TPUStrategy scope means we will train the model on the TPU\n",
        "  model1 = model\n",
        "model1.summary()\n"
      ]
    },
    {
      "cell_type": "code",
      "execution_count": null,
      "metadata": {
        "colab": {
          "base_uri": "https://localhost:8080/"
        },
        "id": "5NElyWIQO7nc",
        "outputId": "9fe6d026-11b2-4cff-84aa-78307a42af7a"
      },
      "outputs": [
        {
          "data": {
            "text/plain": [
              "4796"
            ]
          },
          "execution_count": 28,
          "metadata": {},
          "output_type": "execute_result"
        }
      ],
      "source": [
        "json_string = model.to_json()\n",
        "open('/content/drive/MyDrive/Noise_Complete_FGMBmodel.json', 'w').write(json_string)"
      ]
    },
    {
      "cell_type": "code",
      "execution_count": null,
      "metadata": {
        "id": "_0MjrkT1PQUo"
      },
      "outputs": [],
      "source": [
        "#optimizers\n",
        "adam = Adam(learning_rate=0.08* tpu_strategy.num_replicas_in_sync, beta_1=0.9, beta_2=0.999, epsilon=1e-08)\n",
        "rms = RMSprop(learning_rate = 0.01* tpu_strategy.num_replicas_in_sync, rho=0.9, epsilon=1e-08)\n",
        "ada = Adagrad(learning_rate=0.2* tpu_strategy.num_replicas_in_sync, epsilon=1e-08)\n",
        "sgd = SGD(learning_rate=0.1* tpu_strategy.num_replicas_in_sync, momentum=0.1)\n",
        "adadel=Adadelta(learning_rate=1.0* tpu_strategy.num_replicas_in_sync, rho=0.95, epsilon=1e-08)\n",
        "adamax = Adamax(learning_rate=0.002* tpu_strategy.num_replicas_in_sync, beta_1=0.9, beta_2=0.999)\n",
        "nadam = Nadam(learning_rate=0.002* tpu_strategy.num_replicas_in_sync, beta_1=0.9, beta_2=0.999)\n",
        "model.compile(loss='mse', optimizer='adam', metrics=['accuracy'])"
      ]
    },
    {
      "cell_type": "code",
      "execution_count": null,
      "metadata": {
        "colab": {
          "background_save": true
        },
        "id": "eTBg_WSnPVyU"
      },
      "outputs": [],
      "source": [
        "# fit network\n",
        "csv_logger = CSVLogger('training_history.csv')\n",
        "history = model.fit(x_train, y_train, epochs = 1000, validation_data=(x_test, y_test),batch_size=256* tpu_strategy.num_replicas_in_sync, verbose=1,callbacks=[csv_logger])\n",
        "scores = model.evaluate(x_test, y_test,verbose=0)\n",
        "model.save_weights('drive/My Drive/target_weight.h5', overwrite=True)\n",
        "print(model.evaluate(x_train, y_train))"
      ]
    },
    {
      "cell_type": "code",
      "execution_count": null,
      "metadata": {
        "id": "YMEL76VyPnoF"
      },
      "outputs": [],
      "source": [
        "pred_train = model.predict(x_train)\n",
        "pred_test = model.predict(x_test)\n",
        "mse_train = mean_squared_error(pred_train, y_train)\n",
        "mse_test  = mean_squared_error(pred_test, y_test)\n",
        "mae_train = mean_absolute_error(pred_train, y_train)\n",
        "mae_test = mean_absolute_error(pred_test,  y_test)\n",
        "\n",
        "stop = timeit.default_timer()\n",
        "with open(\"MSE_Computingtime.txt\", \"w\") as text_file:\n",
        "    print(\"Computing time: \"+str(stop - start), file=text_file)\n",
        "    print('MSE for train: ' +str(mse_train),file=text_file)\n",
        "    print('MSE for test: '  + str(mse_test), file=text_file)\n",
        "    print('mean absolute error for train: '+str(mae_train),file=text_file)\n",
        "    print('mean absolute error for test: ' + str(mae_test), file=text_file)\n",
        "    print('scores: ' +str(scores),file=text_file)\n",
        "    print(\"%s:%.2f%%\" % (model.metrics_names[1], scores[1] * 100),file=text_file)\n",
        "\n",
        "\n",
        "print('Computing time:',stop - start)\n",
        "print('mean square error for train and test',mse_train, mse_test)\n",
        "print('scores ',scores)\n",
        "print(\"%s:%.2f%%\"%(model.metrics_names[1],scores[1]*100))\n",
        "\n",
        "# #summarize history for accuracy\n",
        "# plt.plot(history.history['acc'])\n",
        "# plt.plot(history.history['val_acc'])\n",
        "# plt.title('Model accuracy')\n",
        "# plt.ylabel('Accuracy')\n",
        "# plt.xlabel('Epoch')\n",
        "# plt.legend(['Train', 'Test'], loc='lower right')\n",
        "# plt.show()\n",
        "\n",
        "# # summarize history for loss\n",
        "# plt.plot(history.history['loss'])\n",
        "# plt.plot(history.history['val_loss'])\n",
        "# plt.title('Model loss')\n",
        "# plt.ylabel('Loss')\n",
        "# plt.xlabel('Epoch')\n",
        "# plt.legend(['Train', 'Test'], loc='upper right')\n",
        "# plt.show()\n",
        "\n",
        "model.summary()\n",
        "config = model.get_config()\n",
        "model.get_weights()\n",
        "print('config',config)\n",
        "print(ascii(model))"
      ]
    }
  ],
  "metadata": {
    "accelerator": "TPU",
    "colab": {
      "collapsed_sections": [],
      "machine_shape": "hm",
      "provenance": []
    },
    "kernelspec": {
      "display_name": "Python 3",
      "language": "python",
      "name": "python3"
    },
    "language_info": {
      "codemirror_mode": {
        "name": "ipython",
        "version": 3
      },
      "file_extension": ".py",
      "mimetype": "text/x-python",
      "name": "python",
      "nbconvert_exporter": "python",
      "pygments_lexer": "ipython3",
      "version": "3.7.1"
    },
    "gpuClass": "standard"
  },
  "nbformat": 4,
  "nbformat_minor": 0
}