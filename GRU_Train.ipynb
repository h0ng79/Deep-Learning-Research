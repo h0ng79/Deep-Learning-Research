{
  "nbformat": 4,
  "nbformat_minor": 0,
  "metadata": {
    "kernelspec": {
      "display_name": "Python 3",
      "language": "python",
      "name": "python3"
    },
    "language_info": {
      "codemirror_mode": {
        "name": "ipython",
        "version": 3
      },
      "file_extension": ".py",
      "mimetype": "text/x-python",
      "name": "python",
      "nbconvert_exporter": "python",
      "pygments_lexer": "ipython3",
      "version": "3.8.3"
    },
    "colab": {
      "provenance": [],
      "collapsed_sections": [
        "KaWZGd5kuTNs",
        "0HgffLATuYHT"
      ],
      "machine_shape": "hm"
    }
  },
  "cells": [
    {
      "cell_type": "markdown",
      "source": [
        "##Library"
      ],
      "metadata": {
        "id": "KaWZGd5kuTNs"
      }
    },
    {
      "cell_type": "code",
      "metadata": {
        "id": "PNk6qNF40Gtu"
      },
      "source": [
        "import pandas as pd\n",
        "import matplotlib.pyplot as plt\n",
        "import numpy as np\n",
        "from keras.layers.core import Dense, Dropout\n",
        "from keras.layers import GRU\n",
        "from tensorflow.keras.optimizers import SGD, Adagrad, RMSprop, Adam, Adadelta, Adamax,Nadam\n",
        "from keras.callbacks import Callback\n",
        "from sklearn.metrics import mean_squared_error, mean_absolute_error,r2_score\n",
        "from keras.models import Sequential\n",
        "import timeit\n",
        "from tensorflow.keras.utils import to_categorical\n",
        "from sklearn.preprocessing import MinMaxScaler\n",
        "from keras.callbacks import Callback, CSVLogger"
      ],
      "execution_count": null,
      "outputs": []
    },
    {
      "cell_type": "markdown",
      "source": [
        "##Connect Driver"
      ],
      "metadata": {
        "id": "0HgffLATuYHT"
      }
    },
    {
      "cell_type": "code",
      "metadata": {
        "id": "7GNJJhfv0VV8",
        "outputId": "aef08ea2-af48-418b-dc9e-980f291abd04",
        "colab": {
          "base_uri": "https://localhost:8080/"
        }
      },
      "source": [
        "from google.colab import drive\n",
        "drive.mount('/content/drive')"
      ],
      "execution_count": null,
      "outputs": [
        {
          "output_type": "stream",
          "name": "stdout",
          "text": [
            "Mounted at /content/drive\n"
          ]
        }
      ]
    },
    {
      "cell_type": "markdown",
      "source": [
        "## Setup Data"
      ],
      "metadata": {
        "id": "7NHT8-iPuf26"
      }
    },
    {
      "cell_type": "code",
      "metadata": {
        "id": "jTBw5KVm0Gty"
      },
      "source": [
        "start = timeit.default_timer()\n",
        "dataframe = pd.read_csv('/content/drive/MyDrive/Research/Deep Learning/LaminatedPlate_RZT_Q9.csv')\n",
        "dataset = dataframe.values\n",
        "data = dataset[:,0:55]\n",
        "scaler = MinMaxScaler()\n",
        "data = scaler.fit_transform(data)"
      ],
      "execution_count": null,
      "outputs": []
    },
    {
      "cell_type": "code",
      "metadata": {
        "id": "VORmQ-v70Gt1"
      },
      "source": [
        "# start = timeit.default_timer()\n",
        "# nb_set = 50000\n",
        "# nb_test=int(nb_set*0.8)\n",
        "\n",
        "# x_train = data[:nb_test,0:50]\n",
        "# x_test  = data[nb_test:,0:50]\n",
        "\n",
        "# y_train = data[:nb_test,100:105]\n",
        "# y_test  = data[nb_test:,100:105]\n",
        "# print(np.shape(y_train))\n",
        "# print('y_train',y_train)\n",
        "\n",
        "# print(np.shape(x_train))\n",
        "# print('x_train = ', x_train)\n",
        "start = timeit.default_timer()\n",
        "nb_set = 50000\n",
        "nb_test=int(nb_set*0.8)\n",
        "\n",
        "x_train = data[:nb_test,0:50]\n",
        "x_test  = data[nb_test:,0:50]\n",
        "\n",
        "y_train = data[:nb_test,50:55]\n",
        "y_test  = data[nb_test:,50:55]\n",
        "#reshpae input data\n",
        "# x_train = x_train.reshape(x_train.shape[0], x_train.shape[1], 1)\n",
        "# x_test = x_test.reshape(x_test.shape[0], x_test.shape[1], 1)\n",
        "# print('x_train_shape',x_train.shape)\n",
        "#reshpae input data\n",
        "x_train = x_train.reshape(x_train.shape[0], 1,x_train.shape[1])\n",
        "x_test = x_test.reshape(x_test.shape[0],1, x_test.shape[1])\n",
        "\n",
        "input_node  = x_train.shape[2]\n",
        "output_node = y_train.shape[1]"
      ],
      "execution_count": null,
      "outputs": []
    },
    {
      "cell_type": "markdown",
      "source": [
        "##Build Models"
      ],
      "metadata": {
        "id": "wubi8Vtmunta"
      }
    },
    {
      "cell_type": "code",
      "metadata": {
        "id": "lGDo5e_E0Gt5"
      },
      "source": [
        "model = Sequential()\n",
        "model.add(GRU(units=300,return_sequences=True, input_shape=(1,input_node), activation=\"relu\"))\n",
        "model.add(GRU(units=200,return_sequences=True, activation=\"relu\"))\n",
        "model.add(GRU(units=100,activation=\"relu\"))\n",
        "model.add(Dense(50, activation=\"relu\"))\n",
        "model.add(Dense(output_node))\n"
      ],
      "execution_count": null,
      "outputs": []
    },
    {
      "cell_type": "code",
      "metadata": {
        "id": "U6-msMrW0Gt8",
        "outputId": "2ecb3642-9819-4070-df2e-b548d8c4883c",
        "colab": {
          "base_uri": "https://localhost:8080/"
        }
      },
      "source": [
        "json_string = model.to_json()\n",
        "open('/content/drive/MyDrive/Research/Deep Learning/GRU/modelrelu.json', 'w').write(json_string)"
      ],
      "execution_count": null,
      "outputs": [
        {
          "output_type": "execute_result",
          "data": {
            "text/plain": [
              "3632"
            ]
          },
          "metadata": {},
          "execution_count": 8
        }
      ]
    },
    {
      "cell_type": "markdown",
      "source": [
        "##Optimizers"
      ],
      "metadata": {
        "id": "i7yYSXIvur_C"
      }
    },
    {
      "cell_type": "code",
      "metadata": {
        "id": "YSr9bQiR0Gt_"
      },
      "source": [
        "adam = Adam(learning_rate=0.000008, beta_1=0.9, beta_2=0.999, epsilon=1e-08)\n",
        "rms = RMSprop(learning_rate = 0.01, rho=0.9, epsilon=1e-08)\n",
        "ada = Adagrad(learning_rate=0.2, epsilon=1e-08)\n",
        "sgd = SGD(learning_rate=0.1, momentum=0.1)\n",
        "adadel=Adadelta(learning_rate=1.0, rho=0.95, epsilon=1e-08)\n",
        "adamax = Adamax(learning_rate=0.002, beta_1=0.9, beta_2=0.999)\n",
        "nadam = Nadam(learning_rate=0.002, beta_1=0.9, beta_2=0.999)"
      ],
      "execution_count": null,
      "outputs": []
    },
    {
      "cell_type": "code",
      "source": [
        "from tensorflow.python.framework import constant_op\n",
        "from tensorflow.python.ops import array_ops\n",
        "from tensorflow.python.ops import math_ops\n",
        "from tensorflow.python.ops import nn_ops\n",
        "import keras.backend as K\n",
        "def huber(y_true, y_pred, delta = 0.0001):\n",
        "    delta = constant_op.constant(delta, dtype=y_pred.dtype)\n",
        "    half = constant_op.constant(0.5, dtype=y_pred.dtype)\n",
        "    abs_error = math_ops.abs(math_ops.subtract(y_pred, y_true))\n",
        "    squared_loss = half * math_ops.squared_difference(y_pred, y_true)\n",
        "    mean_squared_error = math_ops.reduce_mean(squared_loss * squared_loss)\n",
        "    absolute_loss = delta * abs_error - half * math_ops.square(delta)\n",
        "    mean_absolute_loss = math_ops.reduce_mean(absolute_loss)\n",
        "    return K.mean(array_ops.where_v2(abs_error < delta, mean_squared_error, mean_absolute_loss), axis=-1)"
      ],
      "metadata": {
        "id": "m6LV36Su06-B"
      },
      "execution_count": null,
      "outputs": []
    },
    {
      "cell_type": "markdown",
      "source": [
        "##Create and fit network"
      ],
      "metadata": {
        "id": "QCMTDV0ou6yL"
      }
    },
    {
      "cell_type": "code",
      "metadata": {
        "id": "HdQqnphL0GuC",
        "outputId": "0ee48939-48c9-45bf-caad-aa4dbba28d4c",
        "colab": {
          "base_uri": "https://localhost:8080/"
        }
      },
      "source": [
        "import tensorflow as tf\n",
        "model.compile(\n",
        "    loss='mse',\n",
        "    optimizer=tf.keras.optimizers.Adam(),\n",
        "    metrics=[\n",
        "      'accuracy'\n",
        "    ]\n",
        ")\n",
        "model.summary()"
      ],
      "execution_count": null,
      "outputs": [
        {
          "output_type": "stream",
          "name": "stdout",
          "text": [
            "Model: \"sequential\"\n",
            "_________________________________________________________________\n",
            " Layer (type)                Output Shape              Param #   \n",
            "=================================================================\n",
            " gru (GRU)                   (None, 1, 300)            316800    \n",
            "                                                                 \n",
            " gru_1 (GRU)                 (None, 1, 200)            301200    \n",
            "                                                                 \n",
            " gru_2 (GRU)                 (None, 100)               90600     \n",
            "                                                                 \n",
            " dense (Dense)               (None, 50)                5050      \n",
            "                                                                 \n",
            " dense_1 (Dense)             (None, 5)                 255       \n",
            "                                                                 \n",
            "=================================================================\n",
            "Total params: 713,905\n",
            "Trainable params: 713,905\n",
            "Non-trainable params: 0\n",
            "_________________________________________________________________\n"
          ]
        }
      ]
    },
    {
      "cell_type": "code",
      "metadata": {
        "id": "4l0yQhBW0GuI",
        "colab": {
          "base_uri": "https://localhost:8080/"
        },
        "outputId": "72b1721a-7cee-45ab-bc42-23dbedd7c9e6"
      },
      "source": [
        "history = model.fit(x_train, y_train, epochs = 1000,callbacks=[\n",
        "        tf.keras.callbacks.LearningRateScheduler(\n",
        "            lambda epoch: 0.08 * 10 ** 0\n",
        "            # lambda epoch: 10e-09 * 10 ** (epoch / 50)\n",
        "        )\n",
        "    ], validation_data=(x_test, y_test),batch_size=32, verbose=1)\n",
        "scores = model.evaluate(x_test, y_test, verbose=1)\n",
        "model.save_weights('/content/drive/MyDrive/Research MU/GRU/target_weight.h1', overwrite=True)"
      ],
      "execution_count": null,
      "outputs": [
        {
          "output_type": "stream",
          "name": "stdout",
          "text": [
            "Epoch 1/1000\n",
            "1061/1250 [========================>.....] - ETA: 1s - loss: 352.0031 - accuracy: 0.3593"
          ]
        }
      ]
    },
    {
      "cell_type": "code",
      "metadata": {
        "id": "TVRpfB-Z0GuL"
      },
      "source": [
        "pred_train = model.predict(x_train)\n",
        "pred_test = model.predict(x_test)\n",
        "mse_train = mean_squared_error(y_train,pred_train)\n",
        "mse_test  = mean_squared_error(y_test,pred_test)\n",
        "mae_train = mean_absolute_error(y_train,pred_train)\n",
        "mae_test = mean_absolute_error(y_test,pred_test)\n",
        "r2_train = r2_score(y_train,pred_train)\n",
        "r2_test = r2_score(y_test,pred_test)"
      ],
      "execution_count": null,
      "outputs": []
    },
    {
      "cell_type": "code",
      "metadata": {
        "id": "Agreg0Ff0GuN",
        "colab": {
          "base_uri": "https://localhost:8080/"
        },
        "outputId": "96ba9ff2-3ab9-4dcd-d03c-9ee0e735236d"
      },
      "source": [
        "stop = timeit.default_timer()\n",
        "with open(\"/content/drive/MyDrive/Research MU/GRU/MSE_Computingtime.txt\", \"w\") as text_file:\n",
        "    print(\"Computing time: \"+str(stop - start), file=text_file)\n",
        "    print('MSE for train: ' +str(mse_train),file=text_file)\n",
        "    print('MSE for test: '  + str(mse_test), file=text_file)\n",
        "    print('mean absolute error for train: '+str(mae_train),file=text_file)\n",
        "    print('mean absolute error for test: ' + str(mae_test), file=text_file)\n",
        "    print('r2 score for train:' +str(r2_train),file=text_file)\n",
        "    print('r2 score for test:' +str(r2_test),file=text_file)\n",
        "    print('scores: ' +str(scores),file=text_file)\n",
        "    print(\"%s:%.2f%%\" % (model.metrics_names[1], scores[1] * 100),file=text_file)\n",
        "\n",
        "\n",
        "print('Computing time:',stop - start)\n",
        "print('mean square error for train and test',mse_train, mse_test)\n",
        "print('mean absolute error for train and test', mae_train,mae_test)\n",
        "print('r2 score for train and test', r2_train, r2_test)\n",
        "print('scores ',scores)\n",
        "print(\"%s:%.2f%%\"%(model.metrics_names[1],scores[1]*100))"
      ],
      "execution_count": null,
      "outputs": [
        {
          "output_type": "stream",
          "name": "stdout",
          "text": [
            "Computing time: 7810.508573316\n",
            "mean square error for train and test 0.04897388750688851 0.05109994067388372\n",
            "mean absolute error for train and test 0.15853405992616373 0.1614162824970069\n",
            "r2 score for train and test 0.4122381274362137 0.3898195461575898\n",
            "scores  [0.05109991878271103, 0.5236523747444153]\n",
            "accuracy:52.37%\n"
          ]
        }
      ]
    },
    {
      "cell_type": "markdown",
      "source": [
        "##summarize history for loss"
      ],
      "metadata": {
        "id": "eKktArjlvKkT"
      }
    },
    {
      "cell_type": "code",
      "metadata": {
        "id": "kGcsxUTY0GuP",
        "colab": {
          "base_uri": "https://localhost:8080/",
          "height": 295
        },
        "outputId": "7e2b21e3-be4b-4804-88af-222f8b567fc4"
      },
      "source": [
        "# # summarize history for loss\n",
        "plt.plot(history.history['loss'])\n",
        "plt.plot(history.history['val_loss'])\n",
        "plt.title('Model loss')\n",
        "plt.ylabel('Loss')\n",
        "plt.xlabel('Epoch')\n",
        "plt.legend(['Train', 'Test'], loc='upper right')\n",
        "plt.show()\n",
        "\n",
        "# model.summary()\n",
        "# config = model.get_config()\n",
        "# model.get_weights()\n",
        "# print('config',config)\n",
        "# print(ascii(model))\n"
      ],
      "execution_count": null,
      "outputs": [
        {
          "output_type": "display_data",
          "data": {
            "text/plain": [
              "<Figure size 432x288 with 1 Axes>"
            ],
            "image/png": "[encoded data removed]"
          },
          "metadata": {
            "needs_background": "light"
          }
        }
      ]
    },
    {
      "cell_type": "code",
      "metadata": {
        "id": "pzI_SNe9HQcO"
      },
      "source": [],
      "execution_count": null,
      "outputs": []
    }
  ]
}