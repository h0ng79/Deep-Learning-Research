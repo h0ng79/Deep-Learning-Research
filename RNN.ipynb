{
  "nbformat": 4,
  "nbformat_minor": 0,
  "metadata": {
    "colab": {
      "provenance": []
    },
    "kernelspec": {
      "name": "python3",
      "display_name": "Python 3"
    },
    "accelerator": "GPU"
  },
  "cells": [
    {
      "cell_type": "code",
      "metadata": {
        "id": "SSBD2b9KwIFn"
      },
      "source": [
        "import pandas as pd\n",
        "import matplotlib.pyplot as plt\n",
        "import numpy as np\n",
        "from keras.layers.core import Dense, Dropout\n",
        "from keras.layers import SimpleRNN\n",
        "from tensorflow.keras.optimizers import SGD, Adagrad, RMSprop, Adam, Adadelta, Adamax,Nadam\n",
        "from keras.callbacks import Callback\n",
        "from sklearn.metrics import mean_squared_error, mean_absolute_error,r2_score\n",
        "from keras.models import Sequential\n",
        "import timeit\n",
        "from tensorflow.keras.utils import to_categorical\n",
        "from sklearn.preprocessing import MinMaxScaler\n",
        "from keras.callbacks import Callback, CSVLogger"
      ],
      "execution_count": null,
      "outputs": []
    },
    {
      "cell_type": "code",
      "metadata": {
        "id": "5dmcjPTMwXd6",
        "outputId": "220e7b58-58ce-4ca9-95d7-a3b7861c253a",
        "colab": {
          "base_uri": "https://localhost:8080/"
        }
      },
      "source": [
        "from google.colab import drive\n",
        "drive.mount('/content/drive')"
      ],
      "execution_count": null,
      "outputs": [
        {
          "output_type": "stream",
          "name": "stdout",
          "text": [
            "Drive already mounted at /content/drive; to attempt to forcibly remount, call drive.mount(\"/content/drive\", force_remount=True).\n"
          ]
        }
      ]
    },
    {
      "cell_type": "code",
      "metadata": {
        "id": "ptGxzPu1wfZ9"
      },
      "source": [
        "start = timeit.default_timer()\n",
        "dataframe = pd.read_csv('/content/drive/MyDrive/Research/Deep Learning/LaminatedPlate_RZT_Q9.csv')\n",
        "dataset = dataframe.values\n",
        "data = dataset[:,0:55]\n",
        "scaler = MinMaxScaler()\n",
        "data = scaler.fit_transform(data)"
      ],
      "execution_count": null,
      "outputs": []
    },
    {
      "cell_type": "code",
      "metadata": {
        "id": "NWG7ARf-wQp_",
        "outputId": "3a74f808-971f-4fa4-fa1f-16dbc7d120cf",
        "colab": {
          "base_uri": "https://localhost:8080/"
        }
      },
      "source": [
        "start = timeit.default_timer()\n",
        "nb_set = 50000\n",
        "nb_test=int(nb_set*0.7)\n",
        "\n",
        "x_train = data[:nb_test,0:50]\n",
        "x_test  = data[nb_test:,0:50]\n",
        "\n",
        "y_train = data[:nb_test,50:55]\n",
        "y_test  = data[nb_test:,50:55]\n",
        "print('y_train',y_train)\n",
        "print(x_train)\n",
        "#reshpae input data\n",
        "x_train = x_train.reshape(x_train.shape[0], 1,x_train.shape[1])\n",
        "x_test = x_test.reshape(x_test.shape[0],1, x_test.shape[1])\n",
        "\n",
        "input_node  = x_train.shape[2]\n",
        "output_node = y_train.shape[1]"
      ],
      "execution_count": null,
      "outputs": [
        {
          "output_type": "stream",
          "name": "stdout",
          "text": [
            "y_train [[0.42717531 0.58751401 0.54305166 0.44421383 0.45133866]\n",
            " [0.40574368 0.51058079 0.67147243 0.46764448 0.37195867]\n",
            " [0.35747964 0.64572483 0.67587772 0.34620174 0.35082198]\n",
            " ...\n",
            " [0.54693528 0.40029007 0.50981177 0.56353489 0.53316111]\n",
            " [0.34393485 0.64565891 0.64864504 0.3467091  0.37627994]\n",
            " [0.52593228 0.49350649 0.50226939 0.53406208 0.49689995]]\n",
            "[[0.35280948 0.40013556 0.59792331 ... 0.74769434 0.83185088 0.39443185]\n",
            " [0.09663441 0.26536996 0.79194769 ... 0.10097671 0.13580377 0.85830722]\n",
            " [0.0186391  0.72832428 0.81665907 ... 0.96961532 0.36463791 0.66442763]\n",
            " ...\n",
            " [0.8856154  0.88672956 0.14925721 ... 0.57972021 0.22206172 0.55248628]\n",
            " [0.2020078  0.6686834  0.99347771 ... 0.5312825  0.0580405  0.81064293]\n",
            " [0.85542062 0.30115448 0.54896943 ... 0.06574737 0.43060641 0.22933751]]\n"
          ]
        }
      ]
    },
    {
      "cell_type": "code",
      "metadata": {
        "id": "cY97NBhVwwFv",
        "colab": {
          "base_uri": "https://localhost:8080/"
        },
        "outputId": "61dfe9a1-eefd-44e1-8cdc-b206891fcf9c"
      },
      "source": [
        "model = Sequential()\n",
        "model.add(SimpleRNN(units=300, return_sequences=True,input_shape=(1,input_node), activation=\"relu\"))\n",
        "model.add(SimpleRNN(units=200,return_sequences=True, activation=\"relu\"))\n",
        "model.add(SimpleRNN(units=200,return_sequences=True, activation=\"relu\"))\n",
        "model.add(SimpleRNN(units=100, activation=\"relu\"))\n",
        "model.add(Dense(50, activation=\"relu\"))\n",
        "model.add(Dense(output_node))\n",
        "model.summary()"
      ],
      "execution_count": null,
      "outputs": [
        {
          "output_type": "stream",
          "name": "stdout",
          "text": [
            "Model: \"sequential_4\"\n",
            "_________________________________________________________________\n",
            " Layer (type)                Output Shape              Param #   \n",
            "=================================================================\n",
            " simple_rnn_14 (SimpleRNN)   (None, 1, 300)            105300    \n",
            "                                                                 \n",
            " simple_rnn_15 (SimpleRNN)   (None, 1, 200)            100200    \n",
            "                                                                 \n",
            " simple_rnn_16 (SimpleRNN)   (None, 1, 200)            80200     \n",
            "                                                                 \n",
            " simple_rnn_17 (SimpleRNN)   (None, 100)               30100     \n",
            "                                                                 \n",
            " dense_4 (Dense)             (None, 50)                5050      \n",
            "                                                                 \n",
            " dense_5 (Dense)             (None, 5)                 255       \n",
            "                                                                 \n",
            "=================================================================\n",
            "Total params: 321,105\n",
            "Trainable params: 321,105\n",
            "Non-trainable params: 0\n",
            "_________________________________________________________________\n"
          ]
        }
      ]
    },
    {
      "cell_type": "code",
      "metadata": {
        "id": "RQrojL5BqNRX"
      },
      "source": [
        "#optimizers\n",
        "adam = Adam(learning_rate=0.001, beta_1=0.9, beta_2=0.999, epsilon=1e-08)\n",
        "rms = RMSprop(learning_rate = 0.01, rho=0.9, epsilon=1e-08)\n",
        "ada = Adagrad(learning_rate=0.2, epsilon=1e-08)\n",
        "sgd = SGD(learning_rate=0.1, momentum=0.1)\n",
        "adadel=Adadelta(learning_rate=1.0, rho=0.95, epsilon=1e-08)\n",
        "adamax = Adamax(learning_rate=0.001, beta_1=0.9, beta_2=0.999)\n",
        "nadam = Nadam(learning_rate=0.002, beta_1=0.9, beta_2=0.999)"
      ],
      "execution_count": null,
      "outputs": []
    },
    {
      "cell_type": "code",
      "metadata": {
        "id": "yYHMnlWIw4dL"
      },
      "source": [
        "json_string = model.to_json()\n",
        "open('/content/drive/MyDrive/Research/Deep Learning/RNN/model.json', 'w').write(json_string)\n",
        "\n",
        "# model.compile(loss='mean_squared_error', optimizer='adadel', metrics=['accuracy'])\n",
        "model.compile(loss='mse', optimizer=adamax, metrics=['accuracy'])"
      ],
      "execution_count": null,
      "outputs": []
    },
    {
      "cell_type": "code",
      "metadata": {
        "id": "cT_6eFetw6A2"
      },
      "source": [
        "csv_logger = CSVLogger('/content/drive/MyDrive/Research/Deep Learning/RNN/training_history.csv')\n",
        "history = model.fit(x_train, y_train, epochs = 1000, validation_data=(x_test, y_test),batch_size=256, verbose=1,callbacks=[csv_logger])\n",
        "scores = model.evaluate(x_test, y_test, verbose=0)\n",
        "model.save_weights('/content/drive/MyDrive/Research/Deep Learning/RNN/target_weight.h5', overwrite=True)\n",
        "print(model.evaluate(x_train, y_train))\n"
      ],
      "execution_count": null,
      "outputs": []
    },
    {
      "cell_type": "code",
      "metadata": {
        "id": "wGBU_1sgw-ZS"
      },
      "source": [
        "pred_train = model.predict(x_train)\n",
        "pred_test = model.predict(x_test)\n",
        "mse_train = mean_squared_error(pred_train, y_train)\n",
        "mse_test  = mean_squared_error(pred_test, y_test)\n",
        "mae_train = mean_absolute_error(pred_train, y_train)\n",
        "mae_test = mean_absolute_error(pred_test,  y_test)\n",
        "r2_train = r2_score(y_train,pred_train)\n",
        "r2_test = r2_score(y_test,pred_test)"
      ],
      "execution_count": null,
      "outputs": []
    },
    {
      "cell_type": "code",
      "metadata": {
        "id": "C4OYZ8xqxCFO"
      },
      "source": [
        "stop = timeit.default_timer()\n",
        "with open(\"/content/drive/MyDrive/Research/Deep Learning/RNN/MSE_Computingtime.txt\", \"w\") as text_file:\n",
        "    print(\"Computing time: \"+str(stop - start), file=text_file)\n",
        "    print('MSE for train: ' +str(mse_train),file=text_file)\n",
        "    print('MSE for test: '  + str(mse_test), file=text_file)\n",
        "    print('mean absolute error for train: '+str(mae_train),file=text_file)\n",
        "    print('mean absolute error for test: ' + str(mae_test), file=text_file)\n",
        "    print('r2 score for train:' +str(r2_train),file=text_file)\n",
        "    print('r2 score for test:' +str(r2_test),file=text_file)\n",
        "    print('scores: ' +str(scores),file=text_file)\n",
        "    print(\"%s:%.2f%%\" % (model.metrics_names[1], scores[1] * 100),file=text_file)"
      ],
      "execution_count": null,
      "outputs": []
    },
    {
      "cell_type": "code",
      "metadata": {
        "id": "ARK9iJoZxJGe"
      },
      "source": [
        "print('Computing time:',stop - start)\n",
        "print('mean square error for train and test',mse_train, mse_test)\n",
        "print('mean absolute error for train and test',mae_train, mae_test)\n",
        "print('r2 score for train and test', r2_train,r2_test)\n",
        "print('scores ',scores)\n",
        "print(\"%s:%.2f%%\"%(model.metrics_names[1],scores[1]*100))"
      ],
      "execution_count": null,
      "outputs": []
    },
    {
      "cell_type": "code",
      "metadata": {
        "id": "k0Qa8oUbxKK6"
      },
      "source": [
        "# summarize history for loss\n",
        "plt.plot(history.history['loss'])\n",
        "plt.plot(history.history['val_loss'])\n",
        "plt.title('Model loss')\n",
        "plt.ylabel('Loss')\n",
        "plt.xlabel('Epoch')\n",
        "plt.legend(['Train', 'Test'], loc='upper right')\n",
        "plt.show()"
      ],
      "execution_count": null,
      "outputs": []
    },
    {
      "cell_type": "code",
      "metadata": {
        "id": "mRxL0kIVxQIM"
      },
      "source": [
        "# model.summary()\n",
        "config = model.get_config()\n",
        "model.get_weights()\n",
        "print('config',config)\n",
        "# print(ascii(model)"
      ],
      "execution_count": null,
      "outputs": []
    }
  ]
}