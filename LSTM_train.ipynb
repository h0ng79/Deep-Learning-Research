{
  "cells": [
    {
      "cell_type": "code",
      "execution_count": null,
      "metadata": {
        "id": "GVJsAtgI5EAT"
      },
      "outputs": [],
      "source": [
        "import numpy as np\n",
        "import matplotlib.pyplot as plt\n",
        "import pandas as pd\n",
        "import math\n",
        "import json\n",
        "from keras.models import Sequential\n",
        "from keras.layers import Dense\n",
        "from keras.layers import LSTM\n",
        "from tensorflow.keras.optimizers import SGD, Adagrad, RMSprop, Adam, Adadelta, Adamax,Nadam\n",
        "from sklearn.preprocessing import MinMaxScaler\n",
        "from sklearn.metrics import mean_squared_error, mean_absolute_error, r2_score\n",
        "import timeit"
      ]
    },
    {
      "cell_type": "code",
      "execution_count": null,
      "metadata": {
        "id": "EkhWsGnJ5JCH"
      },
      "outputs": [],
      "source": [
        "# import jsonlines\n",
        "# with jsonlines.open('output.jsonl', 'r').readline()\n",
        "#     writer.write_all(items)"
      ]
    },
    {
      "cell_type": "code",
      "execution_count": null,
      "metadata": {
        "colab": {
          "base_uri": "https://localhost:8080/"
        },
        "id": "ukrBHLEcc0bk",
        "outputId": "d9b99a37-5900-495c-8f9d-d8950693a777"
      },
      "outputs": [
        {
          "output_type": "stream",
          "name": "stdout",
          "text": [
            "Mounted at /content/drive\n"
          ]
        }
      ],
      "source": [
        "from google.colab import drive\n",
        "drive.mount('/content/drive')"
      ]
    },
    {
      "cell_type": "code",
      "execution_count": null,
      "metadata": {
        "id": "XWWd4nks9svW"
      },
      "outputs": [],
      "source": [
        "start = timeit.default_timer()\n",
        "dataframe = pd.read_csv('/content/drive/MyDrive/Research/Deep Learning/LaminatedPlate_RZT_Q9.csv')\n",
        "dataset = dataframe.values\n",
        "data = dataset[:,0:55]\n",
        "scaler = MinMaxScaler()\n",
        "data = scaler.fit_transform(data)"
      ]
    },
    {
      "cell_type": "code",
      "execution_count": null,
      "metadata": {
        "colab": {
          "base_uri": "https://localhost:8080/"
        },
        "id": "BYX9N9T25EAi",
        "outputId": "cef06e09-754b-4b89-c71d-bd99572ba830"
      },
      "outputs": [
        {
          "output_type": "stream",
          "name": "stdout",
          "text": [
            "(40000, 5)\n",
            "y_test: (9999, 5)\n",
            "y_train =  [[0.42717531 0.58751401 0.54305166 0.44421383 0.45133866]\n",
            " [0.40574368 0.51058079 0.67147243 0.46764448 0.37195867]\n",
            " [0.35747964 0.64572483 0.67587772 0.34620174 0.35082198]\n",
            " ...\n",
            " [0.2701243  0.73861164 0.76651982 0.23882662 0.25368718]\n",
            " [0.4142306  0.62034412 0.66766787 0.37549006 0.35519023]\n",
            " [0.4390913  0.52040345 0.59644907 0.46718325 0.4322217 ]]\n",
            "y_test= [[0.221003   0.72325137 0.82458951 0.26082745 0.20131517]\n",
            " [0.37231033 0.59483156 0.65765585 0.41275771 0.35312353]\n",
            " [0.52961852 0.48671633 0.42651181 0.52838891 0.55180836]\n",
            " ...\n",
            " [0.26840977 0.69477223 0.76418369 0.29302154 0.23090653]\n",
            " [0.48418345 0.51783242 0.50981177 0.51196901 0.46970409]\n",
            " [0.45983712 0.55501351 0.51388333 0.47590056 0.47421325]]\n"
          ]
        }
      ],
      "source": [
        "start = timeit.default_timer()\n",
        "nb_set = 50000\n",
        "nb_test=int(nb_set*0.8)\n",
        "\n",
        "x_train = data[:nb_test,0:50]\n",
        "x_test  = data[nb_test:,0:50]\n",
        "\n",
        "y_train = data[:nb_test,50:55]\n",
        "y_test  = data[nb_test:,50:55]\n",
        "print(np.shape(y_train))\n",
        "print(\"y_test:\",np.shape(y_test))\n",
        "print('y_train = ',y_train)\n",
        "print('y_test=',y_test)\n",
        "\n"
      ]
    },
    {
      "cell_type": "code",
      "execution_count": null,
      "metadata": {
        "colab": {
          "base_uri": "https://localhost:8080/"
        },
        "id": "1zCecy-I-cUu",
        "outputId": "0cd98f0b-d112-4a08-b04d-f44e5f39dd3c"
      },
      "outputs": [
        {
          "output_type": "stream",
          "name": "stdout",
          "text": [
            "inputnode 50\n",
            "inputnode 5\n"
          ]
        }
      ],
      "source": [
        "x_train = x_train.reshape(x_train.shape[0], x_train.shape[1], 1)\n",
        "x_test = x_test.reshape(x_test.shape[0], x_test.shape[1], 1)\n",
        "\n",
        "input_node  = x_train.shape[1]\n",
        "output_node = y_train.shape[1]\n",
        "n_timesteps = x_train.shape[2]\n",
        "print(\"inputnode\",input_node)\n",
        "print(\"inputnode\",output_node)"
      ]
    },
    {
      "cell_type": "code",
      "execution_count": null,
      "metadata": {
        "colab": {
          "base_uri": "https://localhost:8080/"
        },
        "id": "8Ku5W1275EAl",
        "outputId": "12cda727-f63e-4a17-b7d5-c0fbf5b11dc7"
      },
      "outputs": [
        {
          "output_type": "stream",
          "name": "stderr",
          "text": [
            "WARNING:tensorflow:Layer lstm will not use cuDNN kernels since it doesn't meet the criteria. It will use a generic GPU kernel as fallback when running on GPU.\n",
            "WARNING:tensorflow:Layer lstm_1 will not use cuDNN kernels since it doesn't meet the criteria. It will use a generic GPU kernel as fallback when running on GPU.\n",
            "WARNING:tensorflow:Layer lstm_2 will not use cuDNN kernels since it doesn't meet the criteria. It will use a generic GPU kernel as fallback when running on GPU.\n",
            "WARNING:tensorflow:Layer lstm_3 will not use cuDNN kernels since it doesn't meet the criteria. It will use a generic GPU kernel as fallback when running on GPU.\n"
          ]
        },
        {
          "output_type": "stream",
          "name": "stdout",
          "text": [
            "Model: \"sequential\"\n",
            "_________________________________________________________________\n",
            " Layer (type)                Output Shape              Param #   \n",
            "=================================================================\n",
            " lstm (LSTM)                 (None, 50, 200)           161600    \n",
            "                                                                 \n",
            " lstm_1 (LSTM)               (None, 50, 100)           120400    \n",
            "                                                                 \n",
            " lstm_2 (LSTM)               (None, 50, 100)           80400     \n",
            "                                                                 \n",
            " lstm_3 (LSTM)               (None, 50)                30200     \n",
            "                                                                 \n",
            " dense (Dense)               (None, 5)                 255       \n",
            "                                                                 \n",
            "=================================================================\n",
            "Total params: 392,855\n",
            "Trainable params: 392,855\n",
            "Non-trainable params: 0\n",
            "_________________________________________________________________\n"
          ]
        }
      ],
      "source": [
        "# create and fit the LSTM network\n",
        "model = Sequential()\n",
        "model.add(LSTM(200, return_sequences=True,input_shape=(input_node,n_timesteps), activation=\"relu\"))\n",
        "model.add(LSTM(100, return_sequences=True,activation=\"relu\"))\n",
        "model.add(LSTM(100, return_sequences=True,activation=\"relu\"))\n",
        "model.add(LSTM(50, activation=\"relu\"))\n",
        "model.add(Dense(output_node))\n",
        "model.summary()"
      ]
    },
    {
      "cell_type": "code",
      "execution_count": null,
      "metadata": {
        "id": "MUIKGflt5EAo"
      },
      "outputs": [],
      "source": [
        "adam = Adam(learning_rate=0.0001, beta_1=0.9, beta_2=0.999, epsilon=1e-08)\n",
        "rms = RMSprop(learning_rate = 0.01, rho=0.9, epsilon=1e-08)\n",
        "ada = Adagrad(learning_rate=0.2, epsilon=1e-08)\n",
        "sgd = SGD(learning_rate=0.1, momentum=0.1)\n",
        "adadel=Adadelta(learning_rate=0.1, rho=0.95, epsilon=1e-08)\n",
        "adamax = Adamax(learning_rate=0.001, beta_1=0.9, beta_2=0.999)\n",
        "nadam = Nadam(learning_rate=0.002, beta_1=0.9, beta_2=0.999)"
      ]
    },
    {
      "cell_type": "code",
      "execution_count": null,
      "metadata": {
        "colab": {
          "background_save": true
        },
        "id": "SQ1-tVaq5EAq"
      },
      "outputs": [],
      "source": [
        "import tensorflow as tf\n",
        "model.compile(loss='mse', optimizer=adamax,metrics=['accuracy'])\n",
        "history = model.fit(x_train, y_train, epochs=1000, batch_size=256, verbose=1) \n",
        "scores = model.evaluate(x_test, y_test, verbose=1)\n",
        "model.save_weights('target_weight.h5', overwrite=True)"
      ]
    },
    {
      "cell_type": "code",
      "execution_count": null,
      "metadata": {
        "id": "Sp97JOcx5EAt"
      },
      "outputs": [],
      "source": [
        "\n",
        "pred_train = model.predict(x_train)\n",
        "pred_test = model.predict(x_test)\n",
        "mse_train = mean_squared_error(y_train,pred_train)\n",
        "mse_test  = mean_squared_error(y_test,pred_test)\n",
        "mae_train = mean_absolute_error(y_train,pred_train)\n",
        "mae_test = mean_absolute_error(y_test,pred_test)\n",
        "r2_train = r2_score(y_train,pred_train)\n",
        "r2_test = r2_score(y_test,pred_test)"
      ]
    },
    {
      "cell_type": "code",
      "execution_count": null,
      "metadata": {
        "id": "VUJY3nX45EAw"
      },
      "outputs": [],
      "source": [
        "stop = timeit.default_timer()\n",
        "with open(\"MSE_Computingtime.txt\", \"w\") as text_file:\n",
        "    print(\"Computing time: \"+str(stop - start), file=text_file)\n",
        "    print('MSE for train: ' +str(mse_train),file=text_file)\n",
        "    print('MSE for test: '  + str(mse_test), file=text_file)\n",
        "    print('mean absolute error for train: '+str(mae_train),file=text_file)\n",
        "    print('mean absolute error for test: ' + str(mae_test), file=text_file)\n",
        "    print('r2 score for train:' +str(r2_train),file=text_file)\n",
        "    print('r2 score for test: ' +str(r2_test),file=text_file)\n",
        "    print('scores: ' +str(scores),file=text_file)\n",
        "    print(\"%s:%.2f%%\" % (model.metrics_names[1], scores[1] * 100),file=text_file)\n",
        "\n",
        "\n",
        "print('Computing time:',stop - start)\n",
        "print('mean square error for train and test',mse_train, mse_test)\n",
        "print('mean absoliute error for train and test', mae_train,mae_test)\n",
        "print('r2 score for train and test', r2_train,r2_test)\n",
        "print('scores ',scores)\n",
        "print(\"%s:%.2f%%\"%(model.metrics_names[1],scores[1]*100))\n"
      ]
    },
    {
      "cell_type": "code",
      "execution_count": null,
      "metadata": {
        "id": "ISzFwzIm5EAy"
      },
      "outputs": [],
      "source": [
        "# # summarize history for loss\n",
        "# plt.plot(history.history['loss'])\n",
        "# plt.plot(history.history['accuracy'])\n",
        "# plt.title('Model loss')\n",
        "# plt.ylabel('Loss')\n",
        "# plt.xlabel('Epoch')\n",
        "# plt.legend(['Train', 'Test'], loc='upper right')\n",
        "# plt.show()"
      ]
    },
    {
      "cell_type": "code",
      "execution_count": null,
      "metadata": {
        "id": "KHlopkVV5EA0"
      },
      "outputs": [],
      "source": [
        "# model.summary()\n",
        "# config = model.get_config()\n",
        "# model.get_weights()\n",
        "# print('config',config)\n",
        "# print(ascii(model))"
      ]
    }
  ],
  "metadata": {
    "accelerator": "GPU",
    "colab": {
      "collapsed_sections": [],
      "machine_shape": "hm",
      "provenance": []
    },
    "gpuClass": "standard",
    "kernelspec": {
      "display_name": "Python 3",
      "language": "python",
      "name": "python3"
    },
    "language_info": {
      "codemirror_mode": {
        "name": "ipython",
        "version": 3
      },
      "file_extension": ".py",
      "mimetype": "text/x-python",
      "name": "python",
      "nbconvert_exporter": "python",
      "pygments_lexer": "ipython3",
      "version": "3.8.3"
    }
  },
  "nbformat": 4,
  "nbformat_minor": 0
}